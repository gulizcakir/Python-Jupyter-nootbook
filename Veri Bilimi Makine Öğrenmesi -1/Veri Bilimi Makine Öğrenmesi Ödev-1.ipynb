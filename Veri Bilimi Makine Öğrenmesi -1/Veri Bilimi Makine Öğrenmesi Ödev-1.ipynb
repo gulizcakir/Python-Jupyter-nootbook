{
 "cells": [
  {
   "cell_type": "markdown",
   "id": "fb4864e1",
   "metadata": {},
   "source": [
    "# BİL 210 – Veri Bilimi ve Makine Öğrenmesine Giriş / Ödev -1"
   ]
  },
  {
   "cell_type": "markdown",
   "id": "53e10c6b",
   "metadata": {},
   "source": [
    "# Arkadaş Sayılar Örneği"
   ]
  },
  {
   "cell_type": "markdown",
   "id": "9a68a8b7",
   "metadata": {},
   "source": [
    "1 - Kullanıcı tarafından girilen iki sayının arkadaş olup olmadığını tespit eden\n",
    "fonksiyon yazdırılabilir."
   ]
  },
  {
   "cell_type": "markdown",
   "id": "d9353aa3",
   "metadata": {},
   "source": [
    "İki sayı birbirinin kendisi hariç bölenleri toplamına eşitse bu sayılara arkadaş sayılar denir."
   ]
  },
  {
   "cell_type": "markdown",
   "id": "dc001db6",
   "metadata": {},
   "source": [
    "Örneğin\n",
    "\n",
    "220 : 1 + 2 + 4 + 5 + 10 + 11 + 20 + 22 + 44 + 55 + 110 = 284\n",
    "\n",
    "284 : 1 + 2 + 4 + 71 + 142 = 220"
   ]
  },
  {
   "cell_type": "code",
   "execution_count": 3,
   "id": "b95f0d46",
   "metadata": {},
   "outputs": [
    {
     "name": "stdout",
     "output_type": "stream",
     "text": [
      "İlk sayıyı giriniz: 35\n",
      "İkinci sayıyı giriniz: 45\n",
      "\n",
      "\n",
      "Girilen sayilar arkadas DEGİLDİR\n"
     ]
    }
   ],
   "source": [
    "def arkadasSayilar(birinciSayi, ikinciSayi):\n",
    "    \n",
    "    sum1 = 0\n",
    "    sum2 = 0\n",
    "\n",
    "    for i in range(1, birinciSayi):\n",
    "        if(birinciSayi % i == 0):\n",
    "            sum1 = sum1 + i\n",
    "\n",
    "    for i in range(1,ikinciSayi):\n",
    "        if(ikinciSayi % i == 0):\n",
    "            sum2 = sum2 + i\n",
    "\n",
    "    if(sum1 == ikinciSayi and sum2 == birinciSayi):\n",
    "        print(\"Girilen sayilar ARKADASTİR\")\n",
    "    else:\n",
    "        print(\"Girilen sayilar arkadas DEGİLDİR\")\n",
    "birinciSayi = int(input(\"İlk sayıyı giriniz: \"))\n",
    "ikinciSayi = int(input(\"İkinci sayıyı giriniz: \"))\n",
    "print(\"\\n\")\n",
    "arkadasSayilar(birinciSayi, ikinciSayi)"
   ]
  },
  {
   "cell_type": "markdown",
   "id": "4cba78d5",
   "metadata": {},
   "source": [
    "# Mükemmel Sayılar Örneği"
   ]
  },
  {
   "cell_type": "markdown",
   "id": "aec6185e",
   "metadata": {},
   "source": [
    "2- Girilen bir sayının mükemmel sayı olup olmadığını tespit eden bir fonksiyon\n",
    "yazdırılabilir."
   ]
  },
  {
   "cell_type": "markdown",
   "id": "63cedfbf",
   "metadata": {},
   "source": [
    "Matematikte bazı pozitif tam sayıların pozitif bölenleri toplamı, sayının kendisinie eşittir.\n",
    "Bu tür sayılara “mükemmel sayı” denir."
   ]
  },
  {
   "cell_type": "markdown",
   "id": "3d2cd03c",
   "metadata": {},
   "source": [
    "Örneğin \n",
    "\n",
    "En küçük mükemmel sayı 6’dır; çünkü 6 = 1 + 2 + 3; yani tüm öz çarpanlarının toplamıdır."
   ]
  },
  {
   "cell_type": "code",
   "execution_count": 6,
   "id": "ae6eac30",
   "metadata": {},
   "outputs": [
    {
     "name": "stdout",
     "output_type": "stream",
     "text": [
      "Mükemmellik kontrolü yapacağınız sayıyı giriniz: 44\n",
      "\n",
      "\n",
      "Girdiğiniz sayı bir mükemmel sayı değildir.\n"
     ]
    }
   ],
   "source": [
    "def mukemmelSayiHesaplayici(n):\n",
    "    sum1 = 0\n",
    "    for i in range(1, n):\n",
    "        if(n % i == 0):\n",
    "            sum1 = sum1 + i\n",
    "    if (sum1 == n):\n",
    "        print(\"Girdiğiniz sayı bir mükemmel sayıdır.\")\n",
    "    else:\n",
    "        print(\"Girdiğiniz sayı bir mükemmel sayı değildir.\")\n",
    "girilenSayi = int(input(\"Mükemmellik kontrolü yapacağınız sayıyı giriniz: \"))\n",
    "print(\"\\n\")\n",
    "mukemmelSayiHesaplayici(girilenSayi)"
   ]
  }
 ],
 "metadata": {
  "kernelspec": {
   "display_name": "Python 3 (ipykernel)",
   "language": "python",
   "name": "python3"
  },
  "language_info": {
   "codemirror_mode": {
    "name": "ipython",
    "version": 3
   },
   "file_extension": ".py",
   "mimetype": "text/x-python",
   "name": "python",
   "nbconvert_exporter": "python",
   "pygments_lexer": "ipython3",
   "version": "3.9.7"
  }
 },
 "nbformat": 4,
 "nbformat_minor": 5
}
